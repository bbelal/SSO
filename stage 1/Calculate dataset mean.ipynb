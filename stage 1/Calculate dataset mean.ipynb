{
 "cells": [
  {
   "cell_type": "markdown",
   "metadata": {},
   "source": [
    "# Calculate Dataset Mean\n",
    "\n",
    "This notebook provides the source code for calculating the mean across each channel of all images in the dataset. We do that by adding up all pixels values along each channel in the image, then summing it with the rest of the images in the dataset, after that, we divide it by the number of all pixels of all images in the dataset."
   ]
  },
  {
   "cell_type": "code",
   "execution_count": 1,
   "metadata": {},
   "outputs": [
    {
     "name": "stderr",
     "output_type": "stream",
     "text": [
      "Using TensorFlow backend.\n"
     ]
    }
   ],
   "source": [
    "# Import necessary libraries\n",
    "import numpy as np\n",
    "import pandas as pd\n",
    "from keras.preprocessing.image import ImageDataGenerator\n",
    "from tqdm import tqdm\n",
    "import pickle\n",
    "import os"
   ]
  },
  {
   "cell_type": "code",
   "execution_count": 2,
   "metadata": {},
   "outputs": [
    {
     "name": "stderr",
     "output_type": "stream",
     "text": [
      "\r",
      "  0%|                                                                                         | 0/5756 [00:00<?, ?it/s]"
     ]
    },
    {
     "name": "stdout",
     "output_type": "stream",
     "text": [
      "Found 5756 images belonging to 2 classes.\n"
     ]
    },
    {
     "name": "stderr",
     "output_type": "stream",
     "text": [
      "100%|██████████████████████████████████████████████████████████████████████████████| 5756/5756 [01:20<00:00, 87.57it/s]"
     ]
    }
   ],
   "source": [
    "train_dir = \"./train\"\n",
    "datagen = ImageDataGenerator()\n",
    "\n",
    "\n",
    "CHANNEL_NUM = 3\n",
    "pixel_num = 0 # To store the number of all pixels in the dataset\n",
    "channel_sum = np.zeros(CHANNEL_NUM) # To store the sum of pixels value along each channle for all images in the dataset\n",
    "\n",
    "i = 0 # Counter for the sample size\n",
    "for batch in tqdm(datagen.flow_from_directory(train_dir, batch_size=1)):\n",
    "    im = np.asarray(batch[0], np.float32) # image in M*N*CHANNEL_NUM shape, channel in BGR order\n",
    "    im = im/255.0\n",
    "    pixel_num += (im.size/CHANNEL_NUM)\n",
    "    channel_sum += np.sum(im, axis=(0, 1, 2))\n",
    "    i += 1\n",
    "    if i > 5756:\n",
    "        break"
   ]
  },
  {
   "cell_type": "code",
   "execution_count": 3,
   "metadata": {},
   "outputs": [],
   "source": [
    "# Calculate the mean across each channel\n",
    "bgr_mean = channel_sum / pixel_num\n",
    "rgb_mean = list(bgr_mean)[::-1]"
   ]
  },
  {
   "cell_type": "code",
   "execution_count": 4,
   "metadata": {},
   "outputs": [
    {
     "name": "stdout",
     "output_type": "stream",
     "text": [
      "The mean across each channel [R, G, B]:  [0.48115942940770784, 0.48115942940770784, 0.48115942940770784]\n"
     ]
    }
   ],
   "source": [
    "print('The mean across each channel [R, G, B]: ', rgb_mean)"
   ]
  },
  {
   "cell_type": "code",
   "execution_count": 5,
   "metadata": {},
   "outputs": [],
   "source": [
    "# Store the mean in a pickle file\n",
    "pickle_file = os.path.join(\".\", 'Mean.pickle')\n",
    "\n",
    "try:\n",
    "  f = open(pickle_file, 'wb')\n",
    "  save = {\n",
    "    'train_mean': rgb_mean,\n",
    "    }\n",
    "  pickle.dump(save, f, pickle.HIGHEST_PROTOCOL)\n",
    "  f.close()\n",
    "except Exception as e:\n",
    "  print('Unable to save data to', pickle_file, ':', e)\n",
    "  raise"
   ]
  }
 ],
 "metadata": {
  "kernelspec": {
   "display_name": "Python 3",
   "language": "python",
   "name": "python3"
  },
  "language_info": {
   "codemirror_mode": {
    "name": "ipython",
    "version": 3
   },
   "file_extension": ".py",
   "mimetype": "text/x-python",
   "name": "python",
   "nbconvert_exporter": "python",
   "pygments_lexer": "ipython3",
   "version": "3.6.9"
  }
 },
 "nbformat": 4,
 "nbformat_minor": 2
}
